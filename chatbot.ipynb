{
 "cells": [
  {
   "cell_type": "code",
   "execution_count": 3,
   "id": "9dc3e8a1",
   "metadata": {},
   "outputs": [
    {
     "name": "stderr",
     "output_type": "stream",
     "text": [
      "[nltk_data] Downloading package punkt to\n",
      "[nltk_data]     C:\\Users\\Lenovo\\AppData\\Roaming\\nltk_data...\n",
      "[nltk_data]   Unzipping tokenizers\\punkt.zip.\n"
     ]
    },
    {
     "data": {
      "text/plain": [
       "True"
      ]
     },
     "execution_count": 3,
     "metadata": {},
     "output_type": "execute_result"
    }
   ],
   "source": [
    "import os\n",
    "import nltk\n",
    "import ssl\n",
    "import streamlit as st\n",
    "import random\n",
    "from sklearn.feature_extraction.text import TfidfVectorizer\n",
    "from sklearn.linear_model import LogisticRegression\n",
    "\n",
    "ssl._create_default_https_context = ssl._create_unverified_context\n",
    "nltk.data.path.append(os.path.abspath(\"nltk_data\"))\n",
    "nltk.download('punkt')\n"
   ]
  },
  {
   "cell_type": "code",
   "execution_count": 2,
   "id": "24fcf19f",
   "metadata": {},
   "outputs": [
    {
     "name": "stdout",
     "output_type": "stream",
     "text": [
      "Collecting nltk\n",
      "  Downloading nltk-3.9.1-py3-none-any.whl.metadata (2.9 kB)\n",
      "Requirement already satisfied: click in c:\\users\\lenovo\\anaconda3\\envs\\akila\\lib\\site-packages (from nltk) (8.2.1)\n",
      "Requirement already satisfied: joblib in c:\\users\\lenovo\\anaconda3\\envs\\akila\\lib\\site-packages (from nltk) (1.5.1)\n",
      "Collecting regex>=2021.8.3 (from nltk)\n",
      "  Downloading regex-2024.11.6-cp313-cp313-win_amd64.whl.metadata (41 kB)\n",
      "Collecting tqdm (from nltk)\n",
      "  Downloading tqdm-4.67.1-py3-none-any.whl.metadata (57 kB)\n",
      "Requirement already satisfied: colorama in c:\\users\\lenovo\\anaconda3\\envs\\akila\\lib\\site-packages (from click->nltk) (0.4.6)\n",
      "Downloading nltk-3.9.1-py3-none-any.whl (1.5 MB)\n",
      "   ---------------------------------------- 0.0/1.5 MB ? eta -:--:--\n",
      "   ---------------------------------------- 0.0/1.5 MB ? eta -:--:--\n",
      "   ---------------------------------------- 0.0/1.5 MB ? eta -:--:--\n",
      "   ---------------------------------------- 0.0/1.5 MB ? eta -:--:--\n",
      "   ---------------------------------------- 0.0/1.5 MB ? eta -:--:--\n",
      "   ---------------------------------------- 0.0/1.5 MB ? eta -:--:--\n",
      "   ---------------------------------------- 0.0/1.5 MB ? eta -:--:--\n",
      "   ---------------------------------------- 0.0/1.5 MB ? eta -:--:--\n",
      "   ---------------------------------------- 0.0/1.5 MB ? eta -:--:--\n",
      "   ---------------------------------------- 0.0/1.5 MB ? eta -:--:--\n",
      "   ---------------------------------------- 0.0/1.5 MB ? eta -:--:--\n",
      "   ---------------------------------------- 0.0/1.5 MB ? eta -:--:--\n",
      "   ---------------------------------------- 0.0/1.5 MB ? eta -:--:--\n",
      "   ---------------------------------------- 0.0/1.5 MB ? eta -:--:--\n",
      "   ------ --------------------------------- 0.3/1.5 MB ? eta -:--:--\n",
      "   ------ --------------------------------- 0.3/1.5 MB ? eta -:--:--\n",
      "   ------ --------------------------------- 0.3/1.5 MB ? eta -:--:--\n",
      "   ------ --------------------------------- 0.3/1.5 MB ? eta -:--:--\n",
      "   ------ --------------------------------- 0.3/1.5 MB ? eta -:--:--\n",
      "   ------ --------------------------------- 0.3/1.5 MB ? eta -:--:--\n",
      "   ------ --------------------------------- 0.3/1.5 MB ? eta -:--:--\n",
      "   ------ --------------------------------- 0.3/1.5 MB ? eta -:--:--\n",
      "   ------ --------------------------------- 0.3/1.5 MB ? eta -:--:--\n",
      "   ------ --------------------------------- 0.3/1.5 MB ? eta -:--:--\n",
      "   ------ --------------------------------- 0.3/1.5 MB ? eta -:--:--\n",
      "   ------------- -------------------------- 0.5/1.5 MB 108.9 kB/s eta 0:00:10\n",
      "   ------------- -------------------------- 0.5/1.5 MB 108.9 kB/s eta 0:00:10\n",
      "   ------------- -------------------------- 0.5/1.5 MB 108.9 kB/s eta 0:00:10\n",
      "   ------------- -------------------------- 0.5/1.5 MB 108.9 kB/s eta 0:00:10\n",
      "   ------------- -------------------------- 0.5/1.5 MB 108.9 kB/s eta 0:00:10\n",
      "   ------------- -------------------------- 0.5/1.5 MB 108.9 kB/s eta 0:00:10\n",
      "   ------------- -------------------------- 0.5/1.5 MB 108.9 kB/s eta 0:00:10\n",
      "   ------------- -------------------------- 0.5/1.5 MB 108.9 kB/s eta 0:00:10\n",
      "   ------------- -------------------------- 0.5/1.5 MB 108.9 kB/s eta 0:00:10\n",
      "   ------------- -------------------------- 0.5/1.5 MB 108.9 kB/s eta 0:00:10\n",
      "   ------------- -------------------------- 0.5/1.5 MB 108.9 kB/s eta 0:00:10\n",
      "   -------------------- ------------------- 0.8/1.5 MB 114.8 kB/s eta 0:00:07\n",
      "   -------------------- ------------------- 0.8/1.5 MB 114.8 kB/s eta 0:00:07\n",
      "   -------------------- ------------------- 0.8/1.5 MB 114.8 kB/s eta 0:00:07\n",
      "   -------------------- ------------------- 0.8/1.5 MB 114.8 kB/s eta 0:00:07\n",
      "   -------------------- ------------------- 0.8/1.5 MB 114.8 kB/s eta 0:00:07\n",
      "   -------------------- ------------------- 0.8/1.5 MB 114.8 kB/s eta 0:00:07\n",
      "   -------------------- ------------------- 0.8/1.5 MB 114.8 kB/s eta 0:00:07\n",
      "   -------------------- ------------------- 0.8/1.5 MB 114.8 kB/s eta 0:00:07\n",
      "   -------------------- ------------------- 0.8/1.5 MB 114.8 kB/s eta 0:00:07\n",
      "   -------------------- ------------------- 0.8/1.5 MB 114.8 kB/s eta 0:00:07\n",
      "   --------------------------- ------------ 1.0/1.5 MB 116.7 kB/s eta 0:00:04\n",
      "   --------------------------- ------------ 1.0/1.5 MB 116.7 kB/s eta 0:00:04\n",
      "   --------------------------- ------------ 1.0/1.5 MB 116.7 kB/s eta 0:00:04\n",
      "   --------------------------- ------------ 1.0/1.5 MB 116.7 kB/s eta 0:00:04\n",
      "   --------------------------- ------------ 1.0/1.5 MB 116.7 kB/s eta 0:00:04\n",
      "   --------------------------- ------------ 1.0/1.5 MB 116.7 kB/s eta 0:00:04\n",
      "   --------------------------- ------------ 1.0/1.5 MB 116.7 kB/s eta 0:00:04\n",
      "   --------------------------- ------------ 1.0/1.5 MB 116.7 kB/s eta 0:00:04\n",
      "   ---------------------------------- ----- 1.3/1.5 MB 124.6 kB/s eta 0:00:02\n",
      "   ---------------------------------- ----- 1.3/1.5 MB 124.6 kB/s eta 0:00:02\n",
      "   ---------------------------------- ----- 1.3/1.5 MB 124.6 kB/s eta 0:00:02\n",
      "   ---------------------------------- ----- 1.3/1.5 MB 124.6 kB/s eta 0:00:02\n",
      "   ---------------------------------- ----- 1.3/1.5 MB 124.6 kB/s eta 0:00:02\n",
      "   ---------------------------------- ----- 1.3/1.5 MB 124.6 kB/s eta 0:00:02\n",
      "   ---------------------------------------- 1.5/1.5 MB 130.7 kB/s eta 0:00:00\n",
      "Downloading regex-2024.11.6-cp313-cp313-win_amd64.whl (273 kB)\n",
      "Downloading tqdm-4.67.1-py3-none-any.whl (78 kB)\n",
      "Installing collected packages: tqdm, regex, nltk\n",
      "\n",
      "   ------------- -------------------------- 1/3 [regex]\n",
      "   ------------- -------------------------- 1/3 [regex]\n",
      "   -------------------------- ------------- 2/3 [nltk]\n",
      "   -------------------------- ------------- 2/3 [nltk]\n",
      "   -------------------------- ------------- 2/3 [nltk]\n",
      "   -------------------------- ------------- 2/3 [nltk]\n",
      "   -------------------------- ------------- 2/3 [nltk]\n",
      "   -------------------------- ------------- 2/3 [nltk]\n",
      "   -------------------------- ------------- 2/3 [nltk]\n",
      "   -------------------------- ------------- 2/3 [nltk]\n",
      "   -------------------------- ------------- 2/3 [nltk]\n",
      "   -------------------------- ------------- 2/3 [nltk]\n",
      "   -------------------------- ------------- 2/3 [nltk]\n",
      "   -------------------------- ------------- 2/3 [nltk]\n",
      "   -------------------------- ------------- 2/3 [nltk]\n",
      "   -------------------------- ------------- 2/3 [nltk]\n",
      "   -------------------------- ------------- 2/3 [nltk]\n",
      "   -------------------------- ------------- 2/3 [nltk]\n",
      "   ---------------------------------------- 3/3 [nltk]\n",
      "\n",
      "Successfully installed nltk-3.9.1 regex-2024.11.6 tqdm-4.67.1\n",
      "Note: you may need to restart the kernel to use updated packages.\n"
     ]
    }
   ],
   "source": [
    "pip install nltk"
   ]
  },
  {
   "cell_type": "code",
   "execution_count": null,
   "id": "0b6d67c9",
   "metadata": {},
   "outputs": [
    {
     "ename": "NameError",
     "evalue": "name 'json' is not defined",
     "output_type": "error",
     "traceback": [
      "\u001b[31m---------------------------------------------------------------------------\u001b[39m",
      "\u001b[31mNameError\u001b[39m                                 Traceback (most recent call last)",
      "\u001b[36mCell\u001b[39m\u001b[36m \u001b[39m\u001b[32mIn[5]\u001b[39m\u001b[32m, line 7\u001b[39m\n\u001b[32m      4\u001b[39m classifier = LogisticRegression(random_state=\u001b[32m0\u001b[39m, max_iter=\u001b[32m10000\u001b[39m)\n\u001b[32m      6\u001b[39m \u001b[38;5;28;01mwith\u001b[39;00m \u001b[38;5;28mopen\u001b[39m(\u001b[33m\"\u001b[39m\u001b[33mintents.json\u001b[39m\u001b[33m\"\u001b[39m, \u001b[33m\"\u001b[39m\u001b[33mr\u001b[39m\u001b[33m\"\u001b[39m) \u001b[38;5;28;01mas\u001b[39;00m file:\n\u001b[32m----> \u001b[39m\u001b[32m7\u001b[39m     intents = json.load(file)\n\u001b[32m      9\u001b[39m \u001b[38;5;66;03m#preprocess the data\u001b[39;00m\n\u001b[32m     11\u001b[39m tags=[]\n",
      "\u001b[31mNameError\u001b[39m: name 'json' is not defined"
     ]
    }
   ],
   "source": [
    " #Create VECTORIZER AND CLASSIFIER\n",
    " \n",
    "vectorizer = TfidfVectorizer()\n",
    "classifier = LogisticRegression(random_state=0, max_iter=10000)\n",
    "\n",
    "\n",
    "\n",
    "#preprocess the data\n",
    "\n",
    "tags=[]\n",
    "patterns=[]\n",
    "for intent in intents:\n",
    "    for pattern in intent ['patterns']:\n",
    "        tags.append(intent['tag'])\n",
    "        patterns.append(pattern)\n",
    "        "
   ]
  }
 ],
 "metadata": {
  "kernelspec": {
   "display_name": "Akila",
   "language": "python",
   "name": "python3"
  },
  "language_info": {
   "codemirror_mode": {
    "name": "ipython",
    "version": 3
   },
   "file_extension": ".py",
   "mimetype": "text/x-python",
   "name": "python",
   "nbconvert_exporter": "python",
   "pygments_lexer": "ipython3",
   "version": "3.13.5"
  }
 },
 "nbformat": 4,
 "nbformat_minor": 5
}
